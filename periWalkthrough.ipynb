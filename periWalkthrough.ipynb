{
 "cells": [
  {
   "cell_type": "code",
   "execution_count": 1,
   "metadata": {},
   "outputs": [],
   "source": [
    "from peri import util\n",
    "from peri.viz.interaction import OrthoViewer\n",
    "import matplotlib\n",
    "\n"
   ]
  },
  {
   "cell_type": "code",
   "execution_count": null,
   "metadata": {},
   "outputs": [],
   "source": [
    "im = util.RawImage('../../Downloads/small_confocal_image.tif')\n",
    "OrthoViewer(im.get_image())"
   ]
  },
  {
   "cell_type": "code",
   "execution_count": null,
   "metadata": {},
   "outputs": [],
   "source": [
    "import numpy\n",
    "from peri.comp import objs\n",
    "coverslip = objs.Slab(zpos=6)\n",
    "particle_positions = numpy.load('../../Downloads/particle-positions.npy')\n",
    "particle_radii = 5.0\n",
    "particles = objs.PlatonicSpheresCollection(particle_positions, particle_radii)"
   ]
  },
  {
   "cell_type": "code",
   "execution_count": null,
   "metadata": {},
   "outputs": [],
   "source": [
    "from peri.viz.interaction import OrthoPrefeature\n",
    "OrthoPrefeature(im.get_image(), particle_positions, viewrad=3.0)"
   ]
  },
  {
   "cell_type": "code",
   "execution_count": null,
   "metadata": {},
   "outputs": [],
   "source": [
    "from peri.comp import comp\n",
    "objects = comp.ComponentCollection([particles, coverslip], category='obj')"
   ]
  },
  {
   "cell_type": "code",
   "execution_count": null,
   "metadata": {},
   "outputs": [],
   "source": [
    "from peri.comp import ilms\n",
    "illumination = ilms.BarnesStreakLegPoly2P1D(npts=(16,10,8,4), zorder=8)"
   ]
  },
  {
   "cell_type": "code",
   "execution_count": null,
   "metadata": {},
   "outputs": [],
   "source": [
    "background = ilms.LegendrePoly2P1D(order=(7,2,2), category='bkg')"
   ]
  },
  {
   "cell_type": "code",
   "execution_count": null,
   "metadata": {},
   "outputs": [],
   "source": [
    "from peri.comp import comp\n",
    "offset = comp.GlobalScalar(name='offset', value=0.)"
   ]
  },
  {
   "cell_type": "code",
   "execution_count": null,
   "metadata": {},
   "outputs": [],
   "source": []
  }
 ],
 "metadata": {
  "kernelspec": {
   "display_name": "Python [conda env:py2] *",
   "language": "python",
   "name": "conda-env-py2-py"
  },
  "language_info": {
   "codemirror_mode": {
    "name": "ipython",
    "version": 2
   },
   "file_extension": ".py",
   "mimetype": "text/x-python",
   "name": "python",
   "nbconvert_exporter": "python",
   "pygments_lexer": "ipython2",
   "version": "2.7.16"
  }
 },
 "nbformat": 4,
 "nbformat_minor": 2
}
